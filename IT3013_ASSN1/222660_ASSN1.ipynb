{
 "cells": [
  {
   "cell_type": "markdown",
   "id": "6fe26726-1657-4702-b9ed-280da429625f",
   "metadata": {},
   "source": [
    "# IT3103 Assignment 1"
   ]
  },
  {
   "cell_type": "markdown",
   "id": "553ffba2-595d-49bf-8a00-0c44ce45b170",
   "metadata": {},
   "source": [
    "### Importing the necessary libraries"
   ]
  },
  {
   "cell_type": "code",
   "execution_count": 3,
   "id": "e24dc950-3977-44c7-b773-433c87197e1e",
   "metadata": {},
   "outputs": [],
   "source": [
    "import tensorflow as tf\n",
    "import tensorflow.keras as keras\n",
    "import matplotlib.pyplot as plt\n",
    "import os"
   ]
  },
  {
   "cell_type": "markdown",
   "id": "3cdef865-c1fa-4137-b59c-4ecd58e5c9f8",
   "metadata": {},
   "source": [
    "### Importing the dataset\n",
    "Imports the datasets to be used when training the model"
   ]
  },
  {
   "cell_type": "code",
   "execution_count": 5,
   "id": "44ff138b-6fe4-417c-bb68-d7406b7c4665",
   "metadata": {},
   "outputs": [],
   "source": [
    "# Get the file from the link\n",
    "dataset_URL = 'https://nyp-aicourse.s3.ap-southeast-1.amazonaws.com/it3103/datasets/fruits.zip'\n",
    "\n",
    "# Extract the file into a folder\n",
    "path_to_zip = tf.keras.utils.get_file('fruits.zip', origin=dataset_URL, extract=True, cache_dir='.')\n",
    "\n",
    "# Set the path to look for the files\n",
    "dataset_dir = os.path.join(os.path.dirname(path_to_zip), \"fruits_extracted/fruits/train\")\n",
    "dataset_dir_valid = os.path.join(os.path.dirname(path_to_zip), \"fruits_extracted/fruits/valid\")"
   ]
  },
  {
   "cell_type": "markdown",
   "id": "2db1a970-b733-4ef6-8a91-2c83a8e93d89",
   "metadata": {},
   "source": [
    "### Extracting datasets "
   ]
  },
  {
   "cell_type": "code",
   "execution_count": 7,
   "id": "99b6a014-a5b4-4f9b-b9e6-1c991385bc0f",
   "metadata": {},
   "outputs": [
    {
     "name": "stdout",
     "output_type": "stream",
     "text": [
      "Total Fresh Apples:  182\n",
      "Total Fresh Banana:  169\n",
      "Total Fresh Oranges:  163\n",
      "Total Rotten Apples:  253\n",
      "Total Rotten Banana:  238\n",
      "Total Rotten Oranges:  177\n",
      "Valid Fresh Apples:  50\n",
      "Valid Fresh Banana:  49\n",
      "Valid Fresh Oranges:  43\n",
      "Valid Rotten Apples:  74\n",
      "Valid Rotten Banana:  68\n",
      "Valid Rotten Oranges:  45\n"
     ]
    }
   ],
   "source": [
    "# Defining the path to get the training data\n",
    "freshApplesDir = os.path.join(dataset_dir, \"freshapples\")\n",
    "freshBananaDir = os.path.join(dataset_dir, \"freshbanana\")\n",
    "freshOrangesDir = os.path.join(dataset_dir, \"freshoranges\")\n",
    "rottenApplesDir = os.path.join(dataset_dir, \"rottenapples\")\n",
    "rottenBananaDir = os.path.join(dataset_dir, \"rottenbanana\")\n",
    "rottenOrangesDir = os.path.join(dataset_dir, \"rottenoranges\")\n",
    "\n",
    "# Training data check\n",
    "print(\"Total Fresh Apples: \", len(os.listdir(freshApplesDir)))\n",
    "print(\"Total Fresh Banana: \", len(os.listdir(freshBananaDir)))\n",
    "print(\"Total Fresh Oranges: \", len(os.listdir(freshOrangesDir)))\n",
    "print(\"Total Rotten Apples: \", len(os.listdir(rottenApplesDir)))\n",
    "print(\"Total Rotten Banana: \", len(os.listdir(rottenBananaDir)))\n",
    "print(\"Total Rotten Oranges: \", len(os.listdir(rottenOrangesDir)))\n",
    "\n",
    "# Defining the path to get the valid data\n",
    "valid_freshApplesDir = os.path.join(dataset_dir_valid, \"freshapples\")\n",
    "valid_freshBananaDir = os.path.join(dataset_dir_valid, \"freshbanana\")\n",
    "valid_freshOrangesDir = os.path.join(dataset_dir_valid, \"freshoranges\")\n",
    "valid_rottenApplesDir = os.path.join(dataset_dir_valid, \"rottenapples\")\n",
    "valid_rottenBananaDir = os.path.join(dataset_dir_valid, \"rottenbanana\")\n",
    "valid_rottenOrangesDir = os.path.join(dataset_dir_valid, \"rottenoranges\")\n",
    "\n",
    "# Valid data check\n",
    "print(\"Valid Fresh Apples: \", len(os.listdir(valid_freshApplesDir)))\n",
    "print(\"Valid Fresh Banana: \", len(os.listdir(valid_freshBananaDir)))\n",
    "print(\"Valid Fresh Oranges: \", len(os.listdir(valid_freshOrangesDir)))\n",
    "print(\"Valid Rotten Apples: \", len(os.listdir(valid_rottenApplesDir)))\n",
    "print(\"Valid Rotten Banana: \", len(os.listdir(valid_rottenBananaDir)))\n",
    "print(\"Valid Rotten Oranges: \", len(os.listdir(valid_rottenOrangesDir)))"
   ]
  },
  {
   "cell_type": "markdown",
   "id": "15383c45-20e1-4c6e-a92e-e5032a938467",
   "metadata": {},
   "source": [
    "### Creating the Model"
   ]
  },
  {
   "cell_type": "code",
   "execution_count": 9,
   "id": "63676679-312a-48db-bd71-0a53c5f0ed1e",
   "metadata": {},
   "outputs": [
    {
     "ename": "NameError",
     "evalue": "name 'make_model' is not defined",
     "output_type": "error",
     "traceback": [
      "\u001b[1;31m---------------------------------------------------------------------------\u001b[0m",
      "\u001b[1;31mNameError\u001b[0m                                 Traceback (most recent call last)",
      "Cell \u001b[1;32mIn[9], line 19\u001b[0m\n\u001b[0;32m     15\u001b[0m     model\u001b[38;5;241m.\u001b[39madd(keras\u001b[38;5;241m.\u001b[39mlayers\u001b[38;5;241m.\u001b[39mDense(\u001b[38;5;241m1\u001b[39m, activation\u001b[38;5;241m=\u001b[39m\u001b[38;5;124m\"\u001b[39m\u001b[38;5;124msigmoid\u001b[39m\u001b[38;5;124m\"\u001b[39m))\n\u001b[0;32m     17\u001b[0m     \u001b[38;5;28;01mreturn\u001b[39;00m model\n\u001b[1;32m---> 19\u001b[0m model \u001b[38;5;241m=\u001b[39m make_model()\n",
      "\u001b[1;31mNameError\u001b[0m: name 'make_model' is not defined"
     ]
    }
   ],
   "source": [
    "def make_model():\n",
    "    model = keras.Sequential()\n",
    "    model.add(keras.layers.Input(shape=(128,128, 3)))\n",
    "    model.add(keras.layers.Rescaling(1./255))\n",
    "    model.add(keras.layers.Conv2D(32, (3, 3), activation=\"relu\"))\n",
    "    model.add(keras.layers.MaxPooling2D((2,2)))\n",
    "    model.add(keras.layers.Conv2D(64, (3, 3), activation=\"relu\"))\n",
    "    model.add(keras.layers.MaxPooling2D((2,2)))\n",
    "    model.add(keras.layers.Conv2D(128, (3, 3), activation=\"relu\"))\n",
    "    model.add(keras.layers.MaxPooling2D((2,2)))\n",
    "    model.add(keras.layers.Conv2D(128, (3, 3), activation=\"relu\"))\n",
    "    model.add(keras.layers.MaxPooling2D((2,2)))\n",
    "    model.add(keras.layers.Flatten())\n",
    "    model.add(keras.layers.Dense(512, activation=\"relu\"))\n",
    "    model.add(keras.layers.Dense(1, activation=\"sigmoid\"))\n",
    "\n",
    "    return model\n",
    "\n",
    "model = make_model()"
   ]
  }
 ],
 "metadata": {
  "kernelspec": {
   "display_name": "Python 3 (ipykernel)",
   "language": "python",
   "name": "python3"
  },
  "language_info": {
   "codemirror_mode": {
    "name": "ipython",
    "version": 3
   },
   "file_extension": ".py",
   "mimetype": "text/x-python",
   "name": "python",
   "nbconvert_exporter": "python",
   "pygments_lexer": "ipython3",
   "version": "3.12.4"
  }
 },
 "nbformat": 4,
 "nbformat_minor": 5
}
