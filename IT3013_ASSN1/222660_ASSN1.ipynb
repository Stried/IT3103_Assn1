{
 "cells": [
  {
   "cell_type": "markdown",
   "id": "6fe26726-1657-4702-b9ed-280da429625f",
   "metadata": {},
   "source": [
    "# IT3103 Assignment 1"
   ]
  },
  {
   "cell_type": "markdown",
   "id": "553ffba2-595d-49bf-8a00-0c44ce45b170",
   "metadata": {},
   "source": [
    "### Importing the necessary libraries"
   ]
  },
  {
   "cell_type": "code",
   "execution_count": 4,
   "id": "e24dc950-3977-44c7-b773-433c87197e1e",
   "metadata": {},
   "outputs": [],
   "source": [
    "import tensorflow as tf\n",
    "import tensorflow.keras as keras\n",
    "import matplotlib.pyplot as plt\n",
    "import os"
   ]
  },
  {
   "cell_type": "markdown",
   "id": "3cdef865-c1fa-4137-b59c-4ecd58e5c9f8",
   "metadata": {},
   "source": [
    "### Importing the dataset\n",
    "Imports the datasets to be used when training the model"
   ]
  },
  {
   "cell_type": "code",
   "execution_count": 18,
   "id": "44ff138b-6fe4-417c-bb68-d7406b7c4665",
   "metadata": {},
   "outputs": [],
   "source": [
    "# Get the file from the link\n",
    "dataset_URL = 'https://nyp-aicourse.s3.ap-southeast-1.amazonaws.com/it3103/datasets/fruits.zip'\n",
    "\n",
    "# Extract the file into a folder\n",
    "path_to_zip = tf.keras.utils.get_file('fruits.zip', origin=dataset_URL, extract=True, cache_dir='.')\n",
    "\n",
    "# Set the path to look for the files\n",
    "dataset_dir = os.path.join(os.path.dirname(path_to_zip), \"fruits_extracted/fruits/train\")"
   ]
  },
  {
   "cell_type": "markdown",
   "id": "2db1a970-b733-4ef6-8a91-2c83a8e93d89",
   "metadata": {},
   "source": [
    "### Extracting datasets "
   ]
  },
  {
   "cell_type": "code",
   "execution_count": 25,
   "id": "99b6a014-a5b4-4f9b-b9e6-1c991385bc0f",
   "metadata": {},
   "outputs": [
    {
     "name": "stdout",
     "output_type": "stream",
     "text": [
      "Total Fresh Apples:  182\n",
      "Total Fresh Banana:  169\n",
      "Total Fresh Oranges:  163\n",
      "Total Rotten Apples:  253\n",
      "Total Rotten Banana:  238\n",
      "Total Rotten Oranges:  177\n"
     ]
    }
   ],
   "source": [
    "# Defining the path to get the training data\n",
    "freshApplesDir = os.path.join(dataset_dir, \"freshapples\")\n",
    "freshBananaDir = os.path.join(dataset_dir, \"freshbanana\")\n",
    "freshOrangesDir = os.path.join(dataset_dir, \"freshoranges\")\n",
    "rottenApplesDir = os.path.join(dataset_dir, \"rottenapples\")\n",
    "rottenBananaDir = os.path.join(dataset_dir, \"rottenbanana\")\n",
    "rottenOrangesDir = os.path.join(dataset_dir, \"rottenoranges\")\n",
    "\n",
    "# Test data check\n",
    "print(\"Total Fresh Apples: \", len(os.listdir(freshApplesDir)))\n",
    "print(\"Total Fresh Banana: \", len(os.listdir(freshBananaDir)))\n",
    "print(\"Total Fresh Oranges: \", len(os.listdir(freshOrangesDir)))\n",
    "print(\"Total Rotten Apples: \", len(os.listdir(rottenApplesDir)))\n",
    "print(\"Total Rotten Banana: \", len(os.listdir(rottenBananaDir)))\n",
    "print(\"Total Rotten Oranges: \", len(os.listdir(rottenOrangesDir)))\n",
    "\n"
   ]
  },
  {
   "cell_type": "code",
   "execution_count": null,
   "id": "284acfb1-721a-48ad-88fd-85ac8221a12a",
   "metadata": {},
   "outputs": [],
   "source": []
  }
 ],
 "metadata": {
  "kernelspec": {
   "display_name": "Python 3 (ipykernel)",
   "language": "python",
   "name": "python3"
  },
  "language_info": {
   "codemirror_mode": {
    "name": "ipython",
    "version": 3
   },
   "file_extension": ".py",
   "mimetype": "text/x-python",
   "name": "python",
   "nbconvert_exporter": "python",
   "pygments_lexer": "ipython3",
   "version": "3.12.4"
  }
 },
 "nbformat": 4,
 "nbformat_minor": 5
}
